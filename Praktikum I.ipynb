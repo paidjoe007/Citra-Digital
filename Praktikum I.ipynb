{
 "cells": [
  {
   "cell_type": "code",
   "execution_count": 2,
   "id": "94889425",
   "metadata": {},
   "outputs": [],
   "source": [
    "from PIL import Image, ImageEnhance\n",
    "\n",
    "\n",
    "def convert_image(image_path, output_folder):\n",
    "    # Load image\n",
    "    image = Image.open(image_path)\n",
    "\n",
    "    # Convert to grayscale\n",
    "    grayscale_image = image.convert('L')\n",
    "    grayscale_image.save(f'{output_folder}/grayscale.jpg')\n",
    "\n",
    "    # Convert to negative\n",
    "    negative_image = image.convert('L')\n",
    "    negative_image = negative_image.point(lambda i: 255 - i)\n",
    "    negative_image.save(f'{output_folder}/negative.jpg')\n",
    "\n",
    "    # Adjust contrast\n",
    "    contrast_factor = 1.5\n",
    "    contrast_enhancer = ImageEnhance.Contrast(image)\n",
    "    contrast_image = contrast_enhancer.enhance(contrast_factor)\n",
    "    contrast_image.save(f'{output_folder}/contrast.jpg')\n",
    "\n",
    "    # Convert to binary\n",
    "    threshold = 128\n",
    "    binary_image = image.convert('L')\n",
    "    pixels = binary_image.load()\n",
    "    width, height = binary_image.size\n",
    "    for py in range(height):\n",
    "        for px in range(width):\n",
    "            if pixels[px, py] < threshold:\n",
    "                pixels[px, py] = 0\n",
    "            else:\n",
    "                pixels[px, py] = 255\n",
    "    binary_image.save(f'{output_folder}/binary.jpg')\n",
    "\n",
    "# Example usage\n",
    "convert_image('cat.jpg', 'output')"
   ]
  },
  {
   "cell_type": "code",
   "execution_count": 3,
   "id": "412a719d",
   "metadata": {},
   "outputs": [],
   "source": [
    "import cv2\n",
    "\n",
    "def resize_image(image_path, output_folder, size):\n",
    "    # Load image\n",
    "    image = cv2.imread(image_path)\n",
    "\n",
    "    # Resize image\n",
    "    width, height = size\n",
    "    resized_image = cv2.resize(image, (width, height))\n",
    "\n",
    "    # Save the resized image\n",
    "    output_path = f\"{output_folder}/resized_{width}x{height}.jpg\"\n",
    "    cv2.imwrite(output_path, resized_image)\n",
    "\n",
    "# Example usage\n",
    "resize_image('cat.jpg', 'output', (512, 512))\n",
    "resize_image('cat.jpg', 'output', (256, 256))\n",
    "resize_image('cat.jpg', 'output', (128, 128))\n",
    "resize_image('cat.jpg', 'output', (64, 64))\n",
    "resize_image('cat.jpg', 'output', (32, 32))"
   ]
  },
  {
   "cell_type": "code",
   "execution_count": null,
   "id": "c1066114",
   "metadata": {},
   "outputs": [],
   "source": []
  }
 ],
 "metadata": {
  "kernelspec": {
   "display_name": "Python 3 (ipykernel)",
   "language": "python",
   "name": "python3"
  },
  "language_info": {
   "codemirror_mode": {
    "name": "ipython",
    "version": 3
   },
   "file_extension": ".py",
   "mimetype": "text/x-python",
   "name": "python",
   "nbconvert_exporter": "python",
   "pygments_lexer": "ipython3",
   "version": "3.11.5"
  }
 },
 "nbformat": 4,
 "nbformat_minor": 5
}
