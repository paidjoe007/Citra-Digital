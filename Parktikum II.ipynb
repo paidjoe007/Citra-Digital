{
 "cells": [
  {
   "cell_type": "code",
   "execution_count": 2,
   "id": "253c0f14",
   "metadata": {},
   "outputs": [],
   "source": [
    "import cv2\n",
    "import numpy as np"
   ]
  },
  {
   "cell_type": "code",
   "execution_count": 14,
   "id": "4c0a1137",
   "metadata": {},
   "outputs": [
    {
     "data": {
      "text/plain": [
       "True"
      ]
     },
     "execution_count": 14,
     "metadata": {},
     "output_type": "execute_result"
    }
   ],
   "source": [
    "image = cv2.imread('cat.jpg')\n",
    "\"\"\"\n",
    "Apply identity kernel\n",
    "\"\"\"\n",
    "kernel1 = np.array([[0, 0, 0],\n",
    "                    [0, 1, 0],\n",
    "                    [0, 0, 0]])\n",
    "\n",
    "kernel2 = np.array([[0, -1, 0],\n",
    "                    [-1, 5, -1],\n",
    "                    [0, -1, 0]])\n",
    "\n",
    "kernel3 = np.array([[0, -1, 0],\n",
    "                    [-1, 4, -1],\n",
    "                    [0, -1, 0]])\n",
    "\n",
    "\n",
    "kernel4 = 1/9*np.array([[1, 1, 1],\n",
    "                    [1, 1, 1],\n",
    "                    [1, 1, 1]])\n",
    "\n",
    "# filter2D() function can be used to apply kernel to an image.\n",
    "# Where ddepth is the desired depth of final image. ddepth is -1 if...\n",
    "# ... depth is same as original or source image.\n",
    "identity = cv2.filter2D(src=image, ddepth=-1, kernel=kernel1)\n",
    "\n",
    "sharpen = cv2.filter2D(src=image, ddepth=-1, kernel=kernel2)\n",
    "\n",
    "ridge = cv2.filter2D(src=image, ddepth=-1, kernel=kernel3)\n",
    "\n",
    "box_blur  = cv2.filter2D(src=image, ddepth=-1, kernel=kernel4)\n",
    "# We should get the same image\n",
    "#cv2.imshow('Original', image)\n",
    "#cv2.imshow('Identity', identity)\n",
    " \n",
    "#cv2.waitKey(0)\n",
    "cv2.imwrite('identity.jpg', identity)\n",
    "cv2.imwrite('sharpen.jpg', sharpen)\n",
    "cv2.imwrite('ridge.jpg', ridge)\n",
    "cv2.imwrite('box_blur.jpg', box_blur)\n",
    "#cv2.destroyAllWindows()"
   ]
  },
  {
   "cell_type": "code",
   "execution_count": null,
   "id": "7cdf77f1",
   "metadata": {},
   "outputs": [],
   "source": []
  }
 ],
 "metadata": {
  "kernelspec": {
   "display_name": "Python 3 (ipykernel)",
   "language": "python",
   "name": "python3"
  },
  "language_info": {
   "codemirror_mode": {
    "name": "ipython",
    "version": 3
   },
   "file_extension": ".py",
   "mimetype": "text/x-python",
   "name": "python",
   "nbconvert_exporter": "python",
   "pygments_lexer": "ipython3",
   "version": "3.11.5"
  }
 },
 "nbformat": 4,
 "nbformat_minor": 5
}
