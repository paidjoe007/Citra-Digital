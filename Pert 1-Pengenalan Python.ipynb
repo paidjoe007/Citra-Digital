{
 "cells": [
  {
   "cell_type": "markdown",
   "metadata": {},
   "source": [
    "# Praktikum 1 - Pengenalan Python\n",
    "Overview :\n",
    "1. Print\n",
    "2. Comment\n",
    "3. String Variables\n",
    "4. Numerical Variables\n",
    "5. Loops\n",
    "6. Function"
   ]
  },
  {
   "cell_type": "markdown",
   "metadata": {},
   "source": [
    "## 1. Print "
   ]
  },
  {
   "cell_type": "code",
   "execution_count": 12,
   "metadata": {},
   "outputs": [
    {
     "name": "stdout",
     "output_type": "stream",
     "text": [
      "Hello world\n",
      "Hello world single quotes\n",
      "Hello world double quotes\n",
      "Hello world\n",
      "\n",
      "Did you see that blank line?\n",
      "Blank line \n",
      "in the middle of string\n"
     ]
    }
   ],
   "source": [
    "print('Hello world') # the print statement displays a message \n",
    "\n",
    "#------------------------------------------------\n",
    "\n",
    "print('Hello world single quotes') # Strings can be enclosed in single quotes\n",
    "print(\"Hello world double quotes\") # Strings can also be enclosed in double quotes\n",
    "\n",
    "#------------------------------------------------\n",
    "\n",
    "print('Hello world') # Each print statements starts on a new line\n",
    "print() # If you pass nothing to the print statement you get a blank line\n",
    "print('Did you see that blank line?')\n",
    "print('Blank line \\nin the middle of string') # '\\n' is a special character sequence that means print new line"
   ]
  },
  {
   "cell_type": "markdown",
   "metadata": {},
   "source": [
    "## 2. Comment "
   ]
  },
  {
   "cell_type": "code",
   "execution_count": 20,
   "metadata": {},
   "outputs": [],
   "source": [
    "# This is a comment in my code it does nothing\n",
    "# print('Hello world')\n",
    "# print(\"Hello world\")\n",
    "# No output will be displayed!"
   ]
  },
  {
   "cell_type": "markdown",
   "metadata": {},
   "source": [
    "## 3. String Variables"
   ]
  },
  {
   "cell_type": "code",
   "execution_count": 18,
   "metadata": {},
   "outputs": [
    {
     "name": "stdout",
     "output_type": "stream",
     "text": [
      "Susan\n",
      "THE DOG IS NAMED SAMMY\n",
      "the dog is named sammy\n",
      "The dog is named sammy\n",
      "2\n",
      "SusanIbach\n",
      "Hello Susan Ibach\n"
     ]
    }
   ],
   "source": [
    "first_name = 'Susan' # You can store strings in variables\n",
    "print(first_name) # The variable can then be used later in your code\n",
    "\n",
    "#------------------------------------------------\n",
    "\n",
    "sentence = 'The dog is named Sammy'\n",
    "print(sentence.upper()) # upper will return the string in uppercase letters\n",
    "print(sentence.lower()) # lower will return the string in lowercase letters\n",
    "print(sentence.capitalize()) # capitalize will return the string with the first letter uppercase and the rest of the string in lowercase\n",
    "print(sentence.count('a')) #menghitung jumlah karakter a\n",
    "\n",
    "#------------------------------------------------\n",
    "\n",
    "# You can use the + operator to concatenate strings\n",
    "first_name = 'Susan'\n",
    "last_name = 'Ibach'\n",
    "print(first_name + last_name)\n",
    "\n",
    "# If you want a space between the strings you must include the space\n",
    "# within the string\n",
    "print('Hello ' + first_name + ' ' + last_name)"
   ]
  },
  {
   "cell_type": "markdown",
   "metadata": {},
   "source": [
    "## 4. Numerical Variables\n"
   ]
  },
  {
   "cell_type": "code",
   "execution_count": 3,
   "metadata": {},
   "outputs": [
    {
     "name": "stdout",
     "output_type": "stream",
     "text": [
      "3.14159\n",
      "addition 8\n",
      "subtraction 4\n",
      "multiplication 12\n",
      "division 3.0\n",
      "exponent 36\n",
      "Enter first number 2\n",
      "Enter second number 4\n",
      "6\n",
      "6.0\n"
     ]
    }
   ],
   "source": [
    "pi = 3.14159 # You can use variables to store numeric values\n",
    "print(pi)\n",
    "\n",
    "#------------------------------------------------\n",
    "\n",
    "# doing math\n",
    "first_num = 6\n",
    "second_num = 2\n",
    "\n",
    "# You can peform a variety of math operations on numeric values\n",
    "print('addition', first_num + second_num)\n",
    "print('subtraction', first_num - second_num)\n",
    "print('multiplication', first_num * second_num)\n",
    "print('division', first_num / second_num)\n",
    "print ('exponent', first_num ** second_num)\n",
    "\n",
    "#------------------------------------------------\n",
    "\n",
    "first_num = input('Enter first number ')\n",
    "second_num = input('Enter second number ')\n",
    "print(int(first_num) + int(second_num))\n",
    "\n",
    "# float() converts a string to a decimal or float number e.g. 3.14159, 89.5, 1.0\n",
    "print(float(first_num) + float(second_num))"
   ]
  },
  {
   "cell_type": "markdown",
   "metadata": {},
   "source": [
    "## 5. Loops"
   ]
  },
  {
   "cell_type": "code",
   "execution_count": 11,
   "metadata": {},
   "outputs": [
    {
     "name": "stdout",
     "output_type": "stream",
     "text": [
      "Christopher\n",
      "Susan\n",
      "0\n",
      "1\n",
      "Christopher\n",
      "Susan\n",
      "Christopher\n",
      "Susan\n"
     ]
    }
   ],
   "source": [
    "# Looping for with String Variable\n",
    "for name in ['Christopher', 'Susan']:\n",
    "    print(name)\n",
    "\n",
    "# Looping for with Numerical Variable\n",
    "for index in range(0, 2):\n",
    "    print(index)\n",
    "\n",
    "# Looping while with String Variable\n",
    "names = ['Christopher', 'Susan']\n",
    "index = 0\n",
    "while index < len(names):\n",
    "    print(names[index])\n",
    "    index = index + 1 # Change the condition!!\n",
    "    \n",
    "# Looping while with Numerical Variable\n",
    "names = ['Christopher', 'Susan']\n",
    "index = 0\n",
    "while index in range(0,2):\n",
    "    print(names[index])\n",
    "    index = index + 1 # Change the condition!!"
   ]
  },
  {
   "cell_type": "markdown",
   "metadata": {},
   "source": [
    "## 6. Function"
   ]
  },
  {
   "cell_type": "code",
   "execution_count": 1,
   "metadata": {},
   "outputs": [
    {
     "name": "stdout",
     "output_type": "stream",
     "text": [
      "task completed\n",
      "2020-10-02 12:44:09.728915\n",
      "\n",
      "0\n",
      "1\n",
      "2\n",
      "3\n",
      "4\n",
      "5\n",
      "6\n",
      "7\n",
      "8\n",
      "9\n",
      "task completed\n",
      "2020-10-02 12:44:09.730916\n",
      "\n"
     ]
    }
   ],
   "source": [
    "import datetime\n",
    "# Create a function called print_time\n",
    "# This function will print the message and current time\n",
    "def print_time():\n",
    "    print('task completed')\n",
    "    print(datetime.datetime.now())\n",
    "    print() \n",
    "\n",
    "first_name = 'Susan'\n",
    "# Call print_time() function to display message and current time\n",
    "print_time()\n",
    "\n",
    "for x in range(0,10):\n",
    "    print(x)\n",
    "# Call print_time() function to display message and current time\n",
    "print_time()"
   ]
  },
  {
   "cell_type": "code",
   "execution_count": null,
   "metadata": {},
   "outputs": [],
   "source": []
  }
 ],
 "metadata": {
  "kernelspec": {
   "display_name": "Python 3",
   "language": "python",
   "name": "python3"
  },
  "language_info": {
   "codemirror_mode": {
    "name": "ipython",
    "version": 3
   },
   "file_extension": ".py",
   "mimetype": "text/x-python",
   "name": "python",
   "nbconvert_exporter": "python",
   "pygments_lexer": "ipython3",
   "version": "3.7.3"
  }
 },
 "nbformat": 4,
 "nbformat_minor": 2
}
